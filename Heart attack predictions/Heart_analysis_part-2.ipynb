{
 "cells": [
  {
   "cell_type": "code",
   "execution_count": 1,
   "id": "5e69e9e5",
   "metadata": {},
   "outputs": [],
   "source": [
    "import pandas as pd\n",
    "import numpy as np\n",
    "import matplotlib.pyplot as plt\n",
    "#importing sklearn libraries for training the dataset\n",
    "from sklearn.linear_model import LinearRegression, LogisticRegression\n",
    "from sklearn.metrics import precision_score,recall_score, accuracy_score, classification_report,confusion_matrix\n",
    "from sklearn.model_selection import train_test_split\n",
    "from sklearn.ensemble import GradientBoostingRegressor, RandomForestRegressor"
   ]
  },
  {
   "cell_type": "code",
   "execution_count": 2,
   "id": "8dc6891f",
   "metadata": {},
   "outputs": [],
   "source": [
    "df= pd.read_csv('heart.csv')"
   ]
  },
  {
   "cell_type": "code",
   "execution_count": 3,
   "id": "75f22622",
   "metadata": {},
   "outputs": [
    {
     "data": {
      "text/html": [
       "<div>\n",
       "<style scoped>\n",
       "    .dataframe tbody tr th:only-of-type {\n",
       "        vertical-align: middle;\n",
       "    }\n",
       "\n",
       "    .dataframe tbody tr th {\n",
       "        vertical-align: top;\n",
       "    }\n",
       "\n",
       "    .dataframe thead th {\n",
       "        text-align: right;\n",
       "    }\n",
       "</style>\n",
       "<table border=\"1\" class=\"dataframe\">\n",
       "  <thead>\n",
       "    <tr style=\"text-align: right;\">\n",
       "      <th></th>\n",
       "      <th>age</th>\n",
       "      <th>sex</th>\n",
       "      <th>cp</th>\n",
       "      <th>trtbps</th>\n",
       "      <th>chol</th>\n",
       "      <th>fbs</th>\n",
       "      <th>restecg</th>\n",
       "      <th>thalachh</th>\n",
       "      <th>exng</th>\n",
       "      <th>oldpeak</th>\n",
       "      <th>slp</th>\n",
       "      <th>caa</th>\n",
       "      <th>thall</th>\n",
       "      <th>output</th>\n",
       "    </tr>\n",
       "  </thead>\n",
       "  <tbody>\n",
       "    <tr>\n",
       "      <th>0</th>\n",
       "      <td>63</td>\n",
       "      <td>1</td>\n",
       "      <td>3</td>\n",
       "      <td>145</td>\n",
       "      <td>233</td>\n",
       "      <td>1</td>\n",
       "      <td>0</td>\n",
       "      <td>150</td>\n",
       "      <td>0</td>\n",
       "      <td>2.3</td>\n",
       "      <td>0</td>\n",
       "      <td>0</td>\n",
       "      <td>1</td>\n",
       "      <td>1</td>\n",
       "    </tr>\n",
       "    <tr>\n",
       "      <th>1</th>\n",
       "      <td>37</td>\n",
       "      <td>1</td>\n",
       "      <td>2</td>\n",
       "      <td>130</td>\n",
       "      <td>250</td>\n",
       "      <td>0</td>\n",
       "      <td>1</td>\n",
       "      <td>187</td>\n",
       "      <td>0</td>\n",
       "      <td>3.5</td>\n",
       "      <td>0</td>\n",
       "      <td>0</td>\n",
       "      <td>2</td>\n",
       "      <td>1</td>\n",
       "    </tr>\n",
       "    <tr>\n",
       "      <th>2</th>\n",
       "      <td>41</td>\n",
       "      <td>0</td>\n",
       "      <td>1</td>\n",
       "      <td>130</td>\n",
       "      <td>204</td>\n",
       "      <td>0</td>\n",
       "      <td>0</td>\n",
       "      <td>172</td>\n",
       "      <td>0</td>\n",
       "      <td>1.4</td>\n",
       "      <td>2</td>\n",
       "      <td>0</td>\n",
       "      <td>2</td>\n",
       "      <td>1</td>\n",
       "    </tr>\n",
       "    <tr>\n",
       "      <th>3</th>\n",
       "      <td>56</td>\n",
       "      <td>1</td>\n",
       "      <td>1</td>\n",
       "      <td>120</td>\n",
       "      <td>236</td>\n",
       "      <td>0</td>\n",
       "      <td>1</td>\n",
       "      <td>178</td>\n",
       "      <td>0</td>\n",
       "      <td>0.8</td>\n",
       "      <td>2</td>\n",
       "      <td>0</td>\n",
       "      <td>2</td>\n",
       "      <td>1</td>\n",
       "    </tr>\n",
       "    <tr>\n",
       "      <th>4</th>\n",
       "      <td>57</td>\n",
       "      <td>0</td>\n",
       "      <td>0</td>\n",
       "      <td>120</td>\n",
       "      <td>354</td>\n",
       "      <td>0</td>\n",
       "      <td>1</td>\n",
       "      <td>163</td>\n",
       "      <td>1</td>\n",
       "      <td>0.6</td>\n",
       "      <td>2</td>\n",
       "      <td>0</td>\n",
       "      <td>2</td>\n",
       "      <td>1</td>\n",
       "    </tr>\n",
       "  </tbody>\n",
       "</table>\n",
       "</div>"
      ],
      "text/plain": [
       "   age  sex  cp  trtbps  chol  fbs  restecg  thalachh  exng  oldpeak  slp  \\\n",
       "0   63    1   3     145   233    1        0       150     0      2.3    0   \n",
       "1   37    1   2     130   250    0        1       187     0      3.5    0   \n",
       "2   41    0   1     130   204    0        0       172     0      1.4    2   \n",
       "3   56    1   1     120   236    0        1       178     0      0.8    2   \n",
       "4   57    0   0     120   354    0        1       163     1      0.6    2   \n",
       "\n",
       "   caa  thall  output  \n",
       "0    0      1       1  \n",
       "1    0      2       1  \n",
       "2    0      2       1  \n",
       "3    0      2       1  \n",
       "4    0      2       1  "
      ]
     },
     "execution_count": 3,
     "metadata": {},
     "output_type": "execute_result"
    }
   ],
   "source": [
    "df.head()"
   ]
  },
  {
   "cell_type": "code",
   "execution_count": 4,
   "id": "4ffccfce",
   "metadata": {},
   "outputs": [
    {
     "data": {
      "text/plain": [
       "age         0\n",
       "sex         0\n",
       "cp          0\n",
       "trtbps      0\n",
       "chol        0\n",
       "fbs         0\n",
       "restecg     0\n",
       "thalachh    0\n",
       "exng        0\n",
       "oldpeak     0\n",
       "slp         0\n",
       "caa         0\n",
       "thall       0\n",
       "output      0\n",
       "dtype: int64"
      ]
     },
     "execution_count": 4,
     "metadata": {},
     "output_type": "execute_result"
    }
   ],
   "source": [
    "df.isnull().sum()"
   ]
  },
  {
   "cell_type": "code",
   "execution_count": 5,
   "id": "59cd636d",
   "metadata": {},
   "outputs": [
    {
     "data": {
      "text/html": [
       "<div>\n",
       "<style scoped>\n",
       "    .dataframe tbody tr th:only-of-type {\n",
       "        vertical-align: middle;\n",
       "    }\n",
       "\n",
       "    .dataframe tbody tr th {\n",
       "        vertical-align: top;\n",
       "    }\n",
       "\n",
       "    .dataframe thead th {\n",
       "        text-align: right;\n",
       "    }\n",
       "</style>\n",
       "<table border=\"1\" class=\"dataframe\">\n",
       "  <thead>\n",
       "    <tr style=\"text-align: right;\">\n",
       "      <th></th>\n",
       "      <th>age</th>\n",
       "      <th>sex</th>\n",
       "      <th>cp</th>\n",
       "      <th>trtbps</th>\n",
       "      <th>chol</th>\n",
       "      <th>fbs</th>\n",
       "      <th>restecg</th>\n",
       "      <th>thalachh</th>\n",
       "      <th>exng</th>\n",
       "      <th>oldpeak</th>\n",
       "      <th>slp</th>\n",
       "      <th>caa</th>\n",
       "      <th>thall</th>\n",
       "      <th>output</th>\n",
       "    </tr>\n",
       "  </thead>\n",
       "  <tbody>\n",
       "    <tr>\n",
       "      <th>count</th>\n",
       "      <td>303.000000</td>\n",
       "      <td>303.000000</td>\n",
       "      <td>303.000000</td>\n",
       "      <td>303.000000</td>\n",
       "      <td>303.000000</td>\n",
       "      <td>303.000000</td>\n",
       "      <td>303.000000</td>\n",
       "      <td>303.000000</td>\n",
       "      <td>303.000000</td>\n",
       "      <td>303.000000</td>\n",
       "      <td>303.000000</td>\n",
       "      <td>303.000000</td>\n",
       "      <td>303.000000</td>\n",
       "      <td>303.000000</td>\n",
       "    </tr>\n",
       "    <tr>\n",
       "      <th>mean</th>\n",
       "      <td>54.366337</td>\n",
       "      <td>0.683168</td>\n",
       "      <td>0.966997</td>\n",
       "      <td>131.623762</td>\n",
       "      <td>246.264026</td>\n",
       "      <td>0.148515</td>\n",
       "      <td>0.528053</td>\n",
       "      <td>149.646865</td>\n",
       "      <td>0.326733</td>\n",
       "      <td>1.039604</td>\n",
       "      <td>1.399340</td>\n",
       "      <td>0.729373</td>\n",
       "      <td>2.313531</td>\n",
       "      <td>0.544554</td>\n",
       "    </tr>\n",
       "    <tr>\n",
       "      <th>std</th>\n",
       "      <td>9.082101</td>\n",
       "      <td>0.466011</td>\n",
       "      <td>1.032052</td>\n",
       "      <td>17.538143</td>\n",
       "      <td>51.830751</td>\n",
       "      <td>0.356198</td>\n",
       "      <td>0.525860</td>\n",
       "      <td>22.905161</td>\n",
       "      <td>0.469794</td>\n",
       "      <td>1.161075</td>\n",
       "      <td>0.616226</td>\n",
       "      <td>1.022606</td>\n",
       "      <td>0.612277</td>\n",
       "      <td>0.498835</td>\n",
       "    </tr>\n",
       "    <tr>\n",
       "      <th>min</th>\n",
       "      <td>29.000000</td>\n",
       "      <td>0.000000</td>\n",
       "      <td>0.000000</td>\n",
       "      <td>94.000000</td>\n",
       "      <td>126.000000</td>\n",
       "      <td>0.000000</td>\n",
       "      <td>0.000000</td>\n",
       "      <td>71.000000</td>\n",
       "      <td>0.000000</td>\n",
       "      <td>0.000000</td>\n",
       "      <td>0.000000</td>\n",
       "      <td>0.000000</td>\n",
       "      <td>0.000000</td>\n",
       "      <td>0.000000</td>\n",
       "    </tr>\n",
       "    <tr>\n",
       "      <th>25%</th>\n",
       "      <td>47.500000</td>\n",
       "      <td>0.000000</td>\n",
       "      <td>0.000000</td>\n",
       "      <td>120.000000</td>\n",
       "      <td>211.000000</td>\n",
       "      <td>0.000000</td>\n",
       "      <td>0.000000</td>\n",
       "      <td>133.500000</td>\n",
       "      <td>0.000000</td>\n",
       "      <td>0.000000</td>\n",
       "      <td>1.000000</td>\n",
       "      <td>0.000000</td>\n",
       "      <td>2.000000</td>\n",
       "      <td>0.000000</td>\n",
       "    </tr>\n",
       "    <tr>\n",
       "      <th>50%</th>\n",
       "      <td>55.000000</td>\n",
       "      <td>1.000000</td>\n",
       "      <td>1.000000</td>\n",
       "      <td>130.000000</td>\n",
       "      <td>240.000000</td>\n",
       "      <td>0.000000</td>\n",
       "      <td>1.000000</td>\n",
       "      <td>153.000000</td>\n",
       "      <td>0.000000</td>\n",
       "      <td>0.800000</td>\n",
       "      <td>1.000000</td>\n",
       "      <td>0.000000</td>\n",
       "      <td>2.000000</td>\n",
       "      <td>1.000000</td>\n",
       "    </tr>\n",
       "    <tr>\n",
       "      <th>75%</th>\n",
       "      <td>61.000000</td>\n",
       "      <td>1.000000</td>\n",
       "      <td>2.000000</td>\n",
       "      <td>140.000000</td>\n",
       "      <td>274.500000</td>\n",
       "      <td>0.000000</td>\n",
       "      <td>1.000000</td>\n",
       "      <td>166.000000</td>\n",
       "      <td>1.000000</td>\n",
       "      <td>1.600000</td>\n",
       "      <td>2.000000</td>\n",
       "      <td>1.000000</td>\n",
       "      <td>3.000000</td>\n",
       "      <td>1.000000</td>\n",
       "    </tr>\n",
       "    <tr>\n",
       "      <th>max</th>\n",
       "      <td>77.000000</td>\n",
       "      <td>1.000000</td>\n",
       "      <td>3.000000</td>\n",
       "      <td>200.000000</td>\n",
       "      <td>564.000000</td>\n",
       "      <td>1.000000</td>\n",
       "      <td>2.000000</td>\n",
       "      <td>202.000000</td>\n",
       "      <td>1.000000</td>\n",
       "      <td>6.200000</td>\n",
       "      <td>2.000000</td>\n",
       "      <td>4.000000</td>\n",
       "      <td>3.000000</td>\n",
       "      <td>1.000000</td>\n",
       "    </tr>\n",
       "  </tbody>\n",
       "</table>\n",
       "</div>"
      ],
      "text/plain": [
       "              age         sex          cp      trtbps        chol         fbs  \\\n",
       "count  303.000000  303.000000  303.000000  303.000000  303.000000  303.000000   \n",
       "mean    54.366337    0.683168    0.966997  131.623762  246.264026    0.148515   \n",
       "std      9.082101    0.466011    1.032052   17.538143   51.830751    0.356198   \n",
       "min     29.000000    0.000000    0.000000   94.000000  126.000000    0.000000   \n",
       "25%     47.500000    0.000000    0.000000  120.000000  211.000000    0.000000   \n",
       "50%     55.000000    1.000000    1.000000  130.000000  240.000000    0.000000   \n",
       "75%     61.000000    1.000000    2.000000  140.000000  274.500000    0.000000   \n",
       "max     77.000000    1.000000    3.000000  200.000000  564.000000    1.000000   \n",
       "\n",
       "          restecg    thalachh        exng     oldpeak         slp         caa  \\\n",
       "count  303.000000  303.000000  303.000000  303.000000  303.000000  303.000000   \n",
       "mean     0.528053  149.646865    0.326733    1.039604    1.399340    0.729373   \n",
       "std      0.525860   22.905161    0.469794    1.161075    0.616226    1.022606   \n",
       "min      0.000000   71.000000    0.000000    0.000000    0.000000    0.000000   \n",
       "25%      0.000000  133.500000    0.000000    0.000000    1.000000    0.000000   \n",
       "50%      1.000000  153.000000    0.000000    0.800000    1.000000    0.000000   \n",
       "75%      1.000000  166.000000    1.000000    1.600000    2.000000    1.000000   \n",
       "max      2.000000  202.000000    1.000000    6.200000    2.000000    4.000000   \n",
       "\n",
       "            thall      output  \n",
       "count  303.000000  303.000000  \n",
       "mean     2.313531    0.544554  \n",
       "std      0.612277    0.498835  \n",
       "min      0.000000    0.000000  \n",
       "25%      2.000000    0.000000  \n",
       "50%      2.000000    1.000000  \n",
       "75%      3.000000    1.000000  \n",
       "max      3.000000    1.000000  "
      ]
     },
     "execution_count": 5,
     "metadata": {},
     "output_type": "execute_result"
    }
   ],
   "source": [
    "df.describe()"
   ]
  },
  {
   "cell_type": "code",
   "execution_count": 6,
   "id": "56e2f3df",
   "metadata": {},
   "outputs": [],
   "source": [
    "features= ['sex','fbs','restecg','exng','slp','thall','age', 'trtbps','chol', 'thalachh','oldpeak']\n",
    "label= 'output'"
   ]
  },
  {
   "cell_type": "code",
   "execution_count": 7,
   "id": "51133292",
   "metadata": {},
   "outputs": [],
   "source": [
    "#separating the features(X) and lables(y)\n",
    "X,y=df[features].values,df[label].values"
   ]
  },
  {
   "cell_type": "code",
   "execution_count": 8,
   "id": "df0c1bbb",
   "metadata": {},
   "outputs": [
    {
     "name": "stdout",
     "output_type": "stream",
     "text": [
      "Patient 1 \n",
      " Features: [1.0, 1.0, 0.0, 0.0, 0.0, 1.0, 63.0, 145.0, 233.0, 150.0, 2.3] \n",
      " Label: 1\n",
      "Patient 2 \n",
      " Features: [1.0, 0.0, 1.0, 0.0, 0.0, 2.0, 37.0, 130.0, 250.0, 187.0, 3.5] \n",
      " Label: 1\n",
      "Patient 3 \n",
      " Features: [0.0, 0.0, 0.0, 0.0, 2.0, 2.0, 41.0, 130.0, 204.0, 172.0, 1.4] \n",
      " Label: 1\n",
      "Patient 4 \n",
      " Features: [1.0, 0.0, 1.0, 0.0, 2.0, 2.0, 56.0, 120.0, 236.0, 178.0, 0.8] \n",
      " Label: 1\n"
     ]
    }
   ],
   "source": [
    "for n in range(0,4):\n",
    "    print(\"Patient\", str(n+1),\"\\n Features:\", list(X[n]),\"\\n Label:\", y[n])"
   ]
  },
  {
   "cell_type": "code",
   "execution_count": 9,
   "id": "d1e1538e",
   "metadata": {},
   "outputs": [
    {
     "data": {
      "image/png": "[encoded data removed]",
      "text/plain": [
       "<Figure size 864x432 with 1 Axes>"
      ]
     },
     "metadata": {
      "needs_background": "light"
     },
     "output_type": "display_data"
    },
    {
     "data": {
      "image/png": "[encoded data removed]",
      "text/plain": [
       "<Figure size 864x432 with 1 Axes>"
      ]
     },
     "metadata": {
      "needs_background": "light"
     },
     "output_type": "display_data"
    },
    {
     "data": {
      "image/png": "[encoded data removed]",
      "text/plain": [
       "<Figure size 864x432 with 1 Axes>"
      ]
     },
     "metadata": {
      "needs_background": "light"
     },
     "output_type": "display_data"
    },
    {
     "data": {
      "image/png": "[encoded data removed]",
      "text/plain": [
       "<Figure size 864x432 with 1 Axes>"
      ]
     },
     "metadata": {
      "needs_background": "light"
     },
     "output_type": "display_data"
    },
    {
     "data": {
      "image/png": "[encoded data removed]",
      "text/plain": [
       "<Figure size 864x432 with 1 Axes>"
      ]
     },
     "metadata": {
      "needs_background": "light"
     },
     "output_type": "display_data"
    },
    {
     "data": {
      "image/png": "[encoded data removed]",
      "text/plain": [
       "<Figure size 864x432 with 1 Axes>"
      ]
     },
     "metadata": {
      "needs_background": "light"
     },
     "output_type": "display_data"
    },
    {
     "data": {
      "image/png": "[encoded data removed]",
      "text/plain": [
       "<Figure size 864x432 with 1 Axes>"
      ]
     },
     "metadata": {
      "needs_background": "light"
     },
     "output_type": "display_data"
    },
    {
     "data": {
      "image/png": "[encoded data removed]",
      "text/plain": [
       "<Figure size 864x432 with 1 Axes>"
      ]
     },
     "metadata": {
      "needs_background": "light"
     },
     "output_type": "display_data"
    },
    {
     "data": {
      "image/png": "[encoded data removed]",
      "text/plain": [
       "<Figure size 864x432 with 1 Axes>"
      ]
     },
     "metadata": {
      "needs_background": "light"
     },
     "output_type": "display_data"
    },
    {
     "data": {
      "image/png": "[encoded data removed]",
      "text/plain": [
       "<Figure size 864x432 with 1 Axes>"
      ]
     },
     "metadata": {
      "needs_background": "light"
     },
     "output_type": "display_data"
    },
    {
     "data": {
      "image/png": "[encoded data removed]",
      "text/plain": [
       "<Figure size 864x432 with 1 Axes>"
      ]
     },
     "metadata": {
      "needs_background": "light"
     },
     "output_type": "display_data"
    }
   ],
   "source": [
    "for col in features:\n",
    "    df.boxplot(column=col,by='output',figsize=(12,6))\n",
    "    plt.title(col)\n",
    "plt.show()"
   ]
  },
  {
   "cell_type": "code",
   "execution_count": 10,
   "id": "1265ca29",
   "metadata": {},
   "outputs": [
    {
     "name": "stdout",
     "output_type": "stream",
     "text": [
      "Training set: 212 rows\n",
      "Test set: 91 rows\n"
     ]
    }
   ],
   "source": [
    "#splitting the data into 70-30% into training and test dataset\n",
    "X_train, X_test, y_train, y_test= train_test_split(X,y, test_size=0.30, random_state=40)\n",
    "print('Training set: %d rows\\nTest set: %d rows' %(X_train.shape[0],X_test.shape[0]))"
   ]
  },
  {
   "cell_type": "markdown",
   "id": "a6de434d",
   "metadata": {},
   "source": [
    "Now we have splitted the data into four datasets:\n",
    "- **X_train**: The feature values- use to train the model\n",
    "- **y_train**: The corresponding labels- use to train the model\n",
    "- **X_test**: The feature values- used to validate the model\n",
    "- **y_test**: The corresponding labels- used to validate the model"
   ]
  },
  {
   "cell_type": "code",
   "execution_count": 11,
   "id": "393b5e09",
   "metadata": {},
   "outputs": [
    {
     "name": "stdout",
     "output_type": "stream",
     "text": [
      "LogisticRegression(C=100.0, solver='liblinear') \n",
      "\n"
     ]
    }
   ],
   "source": [
    "#Training and evaluating the binary classification the model\n",
    "reg=0.01\n",
    "model= LogisticRegression(C=1/reg,solver='liblinear').fit(X_train,y_train)\n",
    "print(model,\"\\n\")"
   ]
  },
  {
   "cell_type": "code",
   "execution_count": 12,
   "id": "0d14fcc1",
   "metadata": {},
   "outputs": [
    {
     "name": "stdout",
     "output_type": "stream",
     "text": [
      "Predicted labels:  [1 1 1 1 1 1 0 0 0 1 0 1 1 0 0 1 0 1 0 0 1 1 0 1 0 1 0 1 1 1 1 0 0 1 1 1 0\n",
      " 0 0 0 1 1 1 0 1 1 1 0 0 0 1 0 1 0 1 1 0 1 0 0 1 1 1 1 1 1 1 0 1 0 0 0 0 0\n",
      " 1 1 1 0 1 0 1 1 0 1 0 1 1 1 0 1 1]\n",
      "Actual label:  [1 1 1 0 1 1 1 0 0 1 0 1 1 0 0 1 0 1 0 0 1 1 1 1 0 1 0 0 1 0 1 0 0 1 1 1 0\n",
      " 1 0 1 1 1 1 0 1 1 0 0 0 0 1 1 1 0 1 1 0 1 0 0 1 1 1 1 1 1 0 0 0 1 0 0 0 0\n",
      " 1 0 1 0 0 1 0 1 0 1 0 1 1 1 0 1 1]\n"
     ]
    }
   ],
   "source": [
    "#evaluate the model using the test data\n",
    "predictions= model.predict(X_test)\n",
    "print('Predicted labels: ', predictions)\n",
    "print('Actual label: ',y_test)"
   ]
  },
  {
   "cell_type": "markdown",
   "id": "c98b7c0d",
   "metadata": {},
   "source": [
    "- As the arrays of labels are too long so we will go with checking the accuracy of the predictions"
   ]
  },
  {
   "cell_type": "code",
   "execution_count": 13,
   "id": "63387f42",
   "metadata": {},
   "outputs": [
    {
     "name": "stdout",
     "output_type": "stream",
     "text": [
      "Accuracy score:  0.8241758241758241\n"
     ]
    }
   ],
   "source": [
    "print('Accuracy score: ', accuracy_score(y_test,predictions))"
   ]
  },
  {
   "cell_type": "markdown",
   "id": "afd266b3",
   "metadata": {},
   "source": [
    "### Performing classification report"
   ]
  },
  {
   "cell_type": "code",
   "execution_count": 14,
   "id": "39489f40",
   "metadata": {},
   "outputs": [
    {
     "name": "stdout",
     "output_type": "stream",
     "text": [
      "              precision    recall  f1-score   support\n",
      "\n",
      "           0       0.82      0.78      0.79        40\n",
      "           1       0.83      0.86      0.85        51\n",
      "\n",
      "    accuracy                           0.82        91\n",
      "   macro avg       0.82      0.82      0.82        91\n",
      "weighted avg       0.82      0.82      0.82        91\n",
      "\n"
     ]
    }
   ],
   "source": [
    "print(classification_report(y_test,predictions))"
   ]
  },
  {
   "cell_type": "code",
   "execution_count": 15,
   "id": "7dc05c52",
   "metadata": {},
   "outputs": [
    {
     "name": "stdout",
     "output_type": "stream",
     "text": [
      "Overall Precision:  0.8301886792452831\n",
      "Overall Recall:  0.8627450980392157\n"
     ]
    }
   ],
   "source": [
    "#Evaluating the precision and recall score\n",
    "print(\"Overall Precision: \", precision_score(y_test,predictions))\n",
    "print(\"Overall Recall: \", recall_score(y_test,predictions))"
   ]
  },
  {
   "cell_type": "markdown",
   "id": "0c975711",
   "metadata": {},
   "source": [
    "### Performing the confusion matrix"
   ]
  },
  {
   "cell_type": "code",
   "execution_count": 16,
   "id": "d11763f9",
   "metadata": {},
   "outputs": [
    {
     "name": "stdout",
     "output_type": "stream",
     "text": [
      "[[31  9]\n",
      " [ 7 44]]\n"
     ]
    }
   ],
   "source": [
    "cm= confusion_matrix(y_test,predictions)\n",
    "print(cm)"
   ]
  },
  {
   "cell_type": "markdown",
   "id": "dfb766ea",
   "metadata": {},
   "source": [
    "**Note**: Statistical machine learning algorithms like logistic regression are based on probability. To see the probability pairs we will use **predict_proba**\n",
    "\n",
    "**Setting the threshold values**\n",
    "A threshold value of 0.5 is used to decide whether the predicted label is a 1 (P(y) > 0.5) or a 0 (P(y) <= 0.5)"
   ]
  },
  {
   "cell_type": "code",
   "execution_count": 17,
   "id": "a8ed7bca",
   "metadata": {},
   "outputs": [
    {
     "name": "stdout",
     "output_type": "stream",
     "text": [
      "[[0.29192693 0.70807307]\n",
      " [0.23934648 0.76065352]\n",
      " [0.02055464 0.97944536]\n",
      " [0.28738053 0.71261947]\n",
      " [0.12724245 0.87275755]\n",
      " [0.16067977 0.83932023]\n",
      " [0.79418581 0.20581419]\n",
      " [0.97479523 0.02520477]\n",
      " [0.92415351 0.07584649]\n",
      " [0.0519827  0.9480173 ]\n",
      " [0.83516099 0.16483901]\n",
      " [0.26505239 0.73494761]\n",
      " [0.04477133 0.95522867]\n",
      " [0.98570471 0.01429529]\n",
      " [0.56458288 0.43541712]\n",
      " [0.45304866 0.54695134]\n",
      " [0.81422404 0.18577596]\n",
      " [0.18522032 0.81477968]\n",
      " [0.54823798 0.45176202]\n",
      " [0.96246049 0.03753951]\n",
      " [0.03556191 0.96443809]\n",
      " [0.21352211 0.78647789]\n",
      " [0.78645628 0.21354372]\n",
      " [0.14631819 0.85368181]\n",
      " [0.95261266 0.04738734]\n",
      " [0.01418198 0.98581802]\n",
      " [0.82613583 0.17386417]\n",
      " [0.19401495 0.80598505]\n",
      " [0.34804206 0.65195794]\n",
      " [0.1890972  0.8109028 ]\n",
      " [0.31242906 0.68757094]\n",
      " [0.90750767 0.09249233]\n",
      " [0.7653198  0.2346802 ]\n",
      " [0.0832921  0.9167079 ]\n",
      " [0.11373702 0.88626298]\n",
      " [0.13127642 0.86872358]\n",
      " [0.96155013 0.03844987]\n",
      " [0.66451456 0.33548544]\n",
      " [0.64983019 0.35016981]\n",
      " [0.68215834 0.31784166]\n",
      " [0.12054312 0.87945688]\n",
      " [0.29848201 0.70151799]\n",
      " [0.0186543  0.9813457 ]\n",
      " [0.87742126 0.12257874]\n",
      " [0.02299316 0.97700684]\n",
      " [0.08949013 0.91050987]\n",
      " [0.13434613 0.86565387]\n",
      " [0.8556069  0.1443931 ]\n",
      " [0.9122463  0.0877537 ]\n",
      " [0.95735373 0.04264627]\n",
      " [0.21916959 0.78083041]\n",
      " [0.56770714 0.43229286]\n",
      " [0.18266081 0.81733919]\n",
      " [0.98481944 0.01518056]\n",
      " [0.18944747 0.81055253]\n",
      " [0.22806419 0.77193581]\n",
      " [0.92263935 0.07736065]\n",
      " [0.05975104 0.94024896]\n",
      " [0.9827439  0.0172561 ]\n",
      " [0.53262085 0.46737915]\n",
      " [0.10095364 0.89904636]\n",
      " [0.02653638 0.97346362]\n",
      " [0.01411772 0.98588228]\n",
      " [0.08081017 0.91918983]\n",
      " [0.03039613 0.96960387]\n",
      " [0.05798689 0.94201311]\n",
      " [0.17652631 0.82347369]\n",
      " [0.55369513 0.44630487]\n",
      " [0.32763937 0.67236063]\n",
      " [0.85077354 0.14922646]\n",
      " [0.95008991 0.04991009]\n",
      " [0.97885643 0.02114357]\n",
      " [0.96579383 0.03420617]\n",
      " [0.65678161 0.34321839]\n",
      " [0.23256575 0.76743425]\n",
      " [0.30133878 0.69866122]\n",
      " [0.14559137 0.85440863]\n",
      " [0.67189369 0.32810631]\n",
      " [0.47234371 0.52765629]\n",
      " [0.64515597 0.35484403]\n",
      " [0.49962813 0.50037187]\n",
      " [0.09622933 0.90377067]\n",
      " [0.98475262 0.01524738]\n",
      " [0.4409792  0.5590208 ]\n",
      " [0.66925717 0.33074283]\n",
      " [0.04221704 0.95778296]\n",
      " [0.05569561 0.94430439]\n",
      " [0.15402913 0.84597087]\n",
      " [0.55846353 0.44153647]\n",
      " [0.43587535 0.56412465]\n",
      " [0.16398595 0.83601405]]\n"
     ]
    }
   ],
   "source": [
    "y_scores= model.predict_proba(X_test)\n",
    "print(y_scores)"
   ]
  },
  {
   "cell_type": "markdown",
   "id": "edd641f9",
   "metadata": {},
   "source": [
    "### Plotting the ROC curve\n",
    "- The decision to score a predictions as a 1 or a 0 depends on the threshold to which the predicted probabilities are compared.\n",
    "- If we'll change the threshold, it would affect the predictions along with change in the confusion matrix.\n",
    "- To evaluate a classifier with true positive rate and false positive rate for a range of possible thresholds- we'll form a chart known as *received operator characteristic* **(ROC)**"
   ]
  },
  {
   "cell_type": "code",
   "execution_count": 18,
   "id": "f079c611",
   "metadata": {},
   "outputs": [],
   "source": [
    "from sklearn.metrics import roc_curve, confusion_matrix\n",
    "fpr, tpr, threshold= roc_curve(y_test,y_scores[:,1])"
   ]
  },
  {
   "cell_type": "code",
   "execution_count": 19,
   "id": "3ec61480",
   "metadata": {},
   "outputs": [
    {
     "data": {
      "image/png": "[encoded data removed]",
      "text/plain": [
       "<Figure size 864x432 with 1 Axes>"
      ]
     },
     "metadata": {
      "needs_background": "light"
     },
     "output_type": "display_data"
    }
   ],
   "source": [
    "#plotting the ROC curve\n",
    "fig= plt.figure(figsize=(12,6))\n",
    "plt.plot([0,1],[0,1],'k--')\n",
    "\n",
    "plt.plot(fpr,tpr)\n",
    "plt.xlabel('False positive rate')\n",
    "plt.ylabel('True positive rate')\n",
    "plt.title('ROC curve')\n",
    "plt.show()"
   ]
  },
  {
   "cell_type": "markdown",
   "id": "3501e9c9",
   "metadata": {},
   "source": [
    "- For better performance of the model instead of using ROC curve, we'll use, **Area Under the Curve(AUC)**- is a value 0 and 1 that quantifies the overall performance of the model. The closer to 1 this value is, the better the model. "
   ]
  },
  {
   "cell_type": "code",
   "execution_count": 20,
   "id": "348513ab",
   "metadata": {},
   "outputs": [
    {
     "name": "stdout",
     "output_type": "stream",
     "text": [
      "Area under the curve: 0.9009803921568628\n"
     ]
    }
   ],
   "source": [
    "from sklearn.metrics import roc_auc_score\n",
    "\n",
    "auc= roc_auc_score(y_test,y_scores[:,1])\n",
    "print('Area under the curve: '+ str(auc))"
   ]
  }
 ],
 "metadata": {
  "kernelspec": {
   "display_name": "Python 3 (ipykernel)",
   "language": "python",
   "name": "python3"
  },
  "language_info": {
   "codemirror_mode": {
    "name": "ipython",
    "version": 3
   },
   "file_extension": ".py",
   "mimetype": "text/x-python",
   "name": "python",
   "nbconvert_exporter": "python",
   "pygments_lexer": "ipython3",
   "version": "3.8.0"
  }
 },
 "nbformat": 4,
 "nbformat_minor": 5
}
