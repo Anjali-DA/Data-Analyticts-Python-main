{
 "cells": [
  {
   "cell_type": "markdown",
   "id": "dc812957",
   "metadata": {},
   "source": [
    "**Installing gnewsclient package**- is a package used to extract the news articles from google news feed."
   ]
  },
  {
   "cell_type": "code",
   "execution_count": 1,
   "id": "5e15f053",
   "metadata": {},
   "outputs": [
    {
     "name": "stdout",
     "output_type": "stream",
     "text": [
      "Collecting gnewsclient\n",
      "  Downloading gnewsclient-1.12-py3-none-any.whl (7.9 kB)\n",
      "Requirement already satisfied: requests in c:\\users\\91732\\appdata\\local\\programs\\python\\python38\\lib\\site-packages (from gnewsclient) (2.28.1)\n",
      "Collecting feedparser\n",
      "  Downloading feedparser-6.0.10-py3-none-any.whl (81 kB)\n",
      "     ---------------------------------------- 81.1/81.1 kB 1.5 MB/s eta 0:00:00\n",
      "Collecting fuzzywuzzy\n",
      "  Downloading fuzzywuzzy-0.18.0-py2.py3-none-any.whl (18 kB)\n",
      "Collecting sgmllib3k\n",
      "  Downloading sgmllib3k-1.0.0.tar.gz (5.8 kB)\n",
      "  Preparing metadata (setup.py): started\n",
      "  Preparing metadata (setup.py): finished with status 'done'\n",
      "Requirement already satisfied: urllib3<1.27,>=1.21.1 in c:\\users\\91732\\appdata\\local\\programs\\python\\python38\\lib\\site-packages (from requests->gnewsclient) (1.26.11)\n",
      "Requirement already satisfied: idna<4,>=2.5 in c:\\users\\91732\\appdata\\local\\programs\\python\\python38\\lib\\site-packages (from requests->gnewsclient) (3.3)\n",
      "Requirement already satisfied: certifi>=2017.4.17 in c:\\users\\91732\\appdata\\local\\programs\\python\\python38\\lib\\site-packages (from requests->gnewsclient) (2022.6.15)\n",
      "Requirement already satisfied: charset-normalizer<3,>=2 in c:\\users\\91732\\appdata\\local\\programs\\python\\python38\\lib\\site-packages (from requests->gnewsclient) (2.1.0)\n",
      "Using legacy 'setup.py install' for sgmllib3k, since package 'wheel' is not installed.\n",
      "Installing collected packages: sgmllib3k, fuzzywuzzy, feedparser, gnewsclient\n",
      "  Running setup.py install for sgmllib3k: started\n",
      "  Running setup.py install for sgmllib3k: finished with status 'done'\n",
      "Successfully installed feedparser-6.0.10 fuzzywuzzy-0.18.0 gnewsclient-1.12 sgmllib3k-1.0.0\n",
      "\n",
      "[notice] A new release of pip available: 22.1.2 -> 23.0\n",
      "[notice] To update, run: c:\\users\\91732\\appdata\\local\\programs\\python\\python38\\python.exe -m pip install --upgrade pip\n"
     ]
    }
   ],
   "source": [
    "!pip install gnewsclient"
   ]
  },
  {
   "cell_type": "markdown",
   "id": "4503c8fa",
   "metadata": {},
   "source": [
    "After installing the **gnewsclient** module, create a *NewsClient* object and get the news feed "
   ]
  },
  {
   "cell_type": "code",
   "execution_count": 2,
   "id": "6762cacb",
   "metadata": {},
   "outputs": [
    {
     "name": "stderr",
     "output_type": "stream",
     "text": [
      "c:\\users\\91732\\appdata\\local\\programs\\python\\python38\\lib\\site-packages\\fuzzywuzzy\\fuzz.py:11: UserWarning: Using slow pure-python SequenceMatcher. Install python-Levenshtein to remove this warning\n",
      "  warnings.warn('Using slow pure-python SequenceMatcher. Install python-Levenshtein to remove this warning')\n"
     ]
    }
   ],
   "source": [
    "from gnewsclient import gnewsclient"
   ]
  },
  {
   "cell_type": "code",
   "execution_count": 4,
   "id": "9ae864dc",
   "metadata": {},
   "outputs": [],
   "source": [
    "client= gnewsclient.NewsClient(language='English', location='India',topic='Technology', max_results=10)"
   ]
  },
  {
   "cell_type": "code",
   "execution_count": 6,
   "id": "ae458b36",
   "metadata": {},
   "outputs": [
    {
     "name": "stdout",
     "output_type": "stream",
     "text": [
      "Topics \n",
      " ['Top Stories', 'World', 'Nation', 'Business', 'Technology', 'Entertainment', 'Sports', 'Science', 'Health']\n"
     ]
    }
   ],
   "source": [
    "print(\"Topics \\n\", client.topics)"
   ]
  },
  {
   "cell_type": "code",
   "execution_count": 10,
   "id": "2ec75092",
   "metadata": {},
   "outputs": [
    {
     "name": "stdout",
     "output_type": "stream",
     "text": [
      "Titles:  iPhone Ultra: Here's why Tim Cook is unconcerned about the price increase - Economic Times\n",
      "Link:  https://news.google.com/rss/articles/CBMilgFodHRwczovL2Vjb25vbWljdGltZXMuaW5kaWF0aW1lcy5jb20vbmV3cy9uZXctdXBkYXRlcy9pcGhvbmUtdWx0cmEtaGVyZXMtd2h5LXRpbS1jb29rLWlzLXVuY29uY2VybmVkLWFib3V0LXRoZS1wcmljZS1pbmNyZWFzZS9hcnRpY2xlc2hvdy85NzY0MTgxMy5jbXPSAZEBaHR0cHM6Ly9tLmVjb25vbWljdGltZXMuY29tL25ld3MvbmV3LXVwZGF0ZXMvaXBob25lLXVsdHJhLWhlcmVzLXdoeS10aW0tY29vay1pcy11bmNvbmNlcm5lZC1hYm91dC10aGUtcHJpY2UtaW5jcmVhc2UvYW1wX2FydGljbGVzaG93Lzk3NjQxODEzLmNtcw?oc=5\n",
      "\n",
      "Titles:  Samsung sees record pre-orders for flagship devices - The Economic Times\n",
      "Link:  https://news.google.com/rss/articles/CBMiiwFodHRwczovL20uZWNvbm9taWN0aW1lcy5jb20vaW5kdXN0cnkvY29ucy1wcm9kdWN0cy9lbGVjdHJvbmljcy9zYW1zdW5nLXNlZXMtcmVjb3JkLXByZS1vcmRlcnMtZm9yLWZsYWdzaGlwLWRldmljZXMvYXJ0aWNsZXNob3cvOTc2NDg5MzUuY21z0gGPAWh0dHBzOi8vbS5lY29ub21pY3RpbWVzLmNvbS9pbmR1c3RyeS9jb25zLXByb2R1Y3RzL2VsZWN0cm9uaWNzL3NhbXN1bmctc2Vlcy1yZWNvcmQtcHJlLW9yZGVycy1mb3ItZmxhZ3NoaXAtZGV2aWNlcy9hbXBfYXJ0aWNsZXNob3cvOTc2NDg5MzUuY21z?oc=5\n",
      "\n",
      "Titles:  Xiaomi unveils Poco X5 Pro with Snapdragon 778G, Poco X5 joins - GSMArena.com news - GSMArena.com\n",
      "Link:  https://news.google.com/rss/articles/CBMib2h0dHBzOi8vd3d3LmdzbWFyZW5hLmNvbS94aWFvbWlfdW52ZWlsc19wb2NvX3g1X3Byb193aXRoX3NuYXBkcmFnb25fNzc4Z192YW5pbGxhX3BvY29feDVfZm9sbG93cy1uZXdzLTU3NDU2LnBocNIBbGh0dHBzOi8vbS5nc21hcmVuYS5jb20veGlhb21pX3VudmVpbHNfcG9jb194NV9wcm9fd2l0aF9zbmFwZHJhZ29uXzc3OGdfdmFuaWxsYV9wb2NvX3g1X2ZvbGxvd3MtYW1wLTU3NDU2LnBocA?oc=5\n",
      "\n",
      "Titles:  Huge Telegram update can translate chats in real time and more - Pocket-lint\n",
      "Link:  https://news.google.com/rss/articles/CBMiUmh0dHBzOi8vd3d3LnBvY2tldC1saW50LmNvbS9odWdlLXRlbGVncmFtLXVwZGF0ZS1jYW4tdHJhbnNsYXRlLWNoYXRzLWluLXJlYWwtdGltZS_SAQA?oc=5\n",
      "\n",
      "Titles:  OnePlus 11 5G India launch tomorrow: Specs, features and how to watch OnePlus event live - DNA India\n",
      "Link:  https://news.google.com/rss/articles/CBMiiQFodHRwczovL3d3dy5kbmFpbmRpYS5jb20vdGVjaG5vbG9neS9yZXBvcnQtb25lcGx1cy0xMS01Zy1pbmRpYS1sYXVuY2gtdG9tb3Jyb3ctc3BlY3MtZmVhdHVyZXMtYW5kLWhvdy10by13YXRjaC1vbmVwbHVzLWV2ZW50LWxpdmUtMzAyMTgxM9IBjQFodHRwczovL3d3dy5kbmFpbmRpYS5jb20vdGVjaG5vbG9neS9yZXBvcnQtb25lcGx1cy0xMS01Zy1pbmRpYS1sYXVuY2gtdG9tb3Jyb3ctc3BlY3MtZmVhdHVyZXMtYW5kLWhvdy10by13YXRjaC1vbmVwbHVzLWV2ZW50LWxpdmUtMzAyMTgxMy9hbXA?oc=5\n",
      "\n",
      "Titles:  Microsoft Bing & ChatGPT: 5 Possible Features At Launch - Search Engine Journal\n",
      "Link:  https://news.google.com/rss/articles/CBMiYGh0dHBzOi8vd3d3LnNlYXJjaGVuZ2luZWpvdXJuYWwuY29tL21pY3Jvc29mdC1iaW5nLWNoYXRncHQtNS1wb3NzaWJsZS1mZWF0dXJlcy1hdC1sYXVuY2gvNDc4NTg5L9IBAA?oc=5\n",
      "\n",
      "Titles:  Coin Master: Know about the links to free spins and coins for February 6, 2023 - Economic Times\n",
      "Link:  https://news.google.com/rss/articles/CBMimwFodHRwczovL2Vjb25vbWljdGltZXMuaW5kaWF0aW1lcy5jb20vbmV3cy9uZXctdXBkYXRlcy9jb2luLW1hc3Rlci1rbm93LWFib3V0LXRoZS1saW5rcy10by1mcmVlLXNwaW5zLWFuZC1jb2lucy1mb3ItZmVicnVhcnktNi0yMDIzL2FydGljbGVzaG93Lzk3NjUwMDM2LmNtc9IBlgFodHRwczovL20uZWNvbm9taWN0aW1lcy5jb20vbmV3cy9uZXctdXBkYXRlcy9jb2luLW1hc3Rlci1rbm93LWFib3V0LXRoZS1saW5rcy10by1mcmVlLXNwaW5zLWFuZC1jb2lucy1mb3ItZmVicnVhcnktNi0yMDIzL2FtcF9hcnRpY2xlc2hvdy85NzY1MDAzNi5jbXM?oc=5\n",
      "\n",
      "Titles:  WhatsApp new feature coming soon, will allow users to pin messages within chats - India Today\n",
      "Link:  https://news.google.com/rss/articles/CBMikQFodHRwczovL3d3dy5pbmRpYXRvZGF5LmluL3RlY2hub2xvZ3kvbmV3cy9zdG9yeS93aGF0c2FwcC1uZXctZmVhdHVyZS1jb21pbmctc29vbi13aWxsLWFsbG93LXVzZXJzLXRvLXBpbi1tZXNzYWdlcy13aXRoaW4tY2hhdHMtMjMzMDk5Ni0yMDIzLTAyLTA20gGVAWh0dHBzOi8vd3d3LmluZGlhdG9kYXkuaW4vYW1wL3RlY2hub2xvZ3kvbmV3cy9zdG9yeS93aGF0c2FwcC1uZXctZmVhdHVyZS1jb21pbmctc29vbi13aWxsLWFsbG93LXVzZXJzLXRvLXBpbi1tZXNzYWdlcy13aXRoaW4tY2hhdHMtMjMzMDk5Ni0yMDIzLTAyLTA2?oc=5\n",
      "\n",
      "Titles:  Oppo Reno 8T Launched With Snapdragon 695 Chipset, Android 13: Price in India, Offers, Availability & Speci - News18\n",
      "Link:  https://news.google.com/rss/articles/CBMinAFodHRwczovL3d3dy5uZXdzMTguY29tL25ld3MvdGVjaC9vcHBvLXJlbm8tOHQtbGF1bmNoZWQtd2l0aC1zbmFwZHJhZ29uLTY5NS1jaGlwc2V0LWFuZHJvaWQtMTMtcHJpY2UtaW4taW5kaWEtb2ZmZXJzLWF2YWlsYWJpbGl0eS1zcGVjaWZpY2F0aW9ucy03MDA5ODc5Lmh0bWzSAaABaHR0cHM6Ly93d3cubmV3czE4LmNvbS9hbXAvbmV3cy90ZWNoL29wcG8tcmVuby04dC1sYXVuY2hlZC13aXRoLXNuYXBkcmFnb24tNjk1LWNoaXBzZXQtYW5kcm9pZC0xMy1wcmljZS1pbi1pbmRpYS1vZmZlcnMtYXZhaWxhYmlsaXR5LXNwZWNpZmljYXRpb25zLTcwMDk4NzkuaHRtbA?oc=5\n",
      "\n",
      "Titles:  Infinix Zero 5G 2023, Zero 5G 2023 Turbo launched In India - India TV News\n",
      "Link:  https://news.google.com/rss/articles/CBMid2h0dHBzOi8vd3d3LmluZGlhdHZuZXdzLmNvbS90ZWNobm9sb2d5L25ld3MvaW5maW5peC16ZXJvLTVnLTIwMjMtemVyby01Zy0yMDIzLXR1cmJvLWxhdW5jaGVkLWluLWluZGlhLTIwMjMtMDItMDYtODQ1MDg20gEA?oc=5\n",
      "\n"
     ]
    }
   ],
   "source": [
    "news_titles=client.get_news()\n",
    "\n",
    "for items in news_titles:\n",
    "    print(\"Titles: \", items['title'])\n",
    "    print(\"Link: \", items['link'])\n",
    "    print(\"\")"
   ]
  },
  {
   "cell_type": "code",
   "execution_count": null,
   "id": "ba28dd53",
   "metadata": {},
   "outputs": [],
   "source": []
  }
 ],
 "metadata": {
  "kernelspec": {
   "display_name": "Python 3 (ipykernel)",
   "language": "python",
   "name": "python3"
  },
  "language_info": {
   "codemirror_mode": {
    "name": "ipython",
    "version": 3
   },
   "file_extension": ".py",
   "mimetype": "text/x-python",
   "name": "python",
   "nbconvert_exporter": "python",
   "pygments_lexer": "ipython3",
   "version": "3.8.0"
  }
 },
 "nbformat": 4,
 "nbformat_minor": 5
}
